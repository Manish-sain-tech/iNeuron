{
 "cells": [
  {
   "cell_type": "markdown",
   "metadata": {},
   "source": [
    "# Assignment_4"
   ]
  },
  {
   "cell_type": "markdown",
   "metadata": {},
   "source": [
    "1.1 Write a python program(with class consept) to find the area of the triangle using the below formula:\n",
    "    area=s(s-a)(s-b)(s-c)**0.5\n",
    "    \n",
    "    Function take the length of sides of triangle from user should be defined in the parent class and function to calculate the area should be define in subclass "
   ]
  },
  {
   "cell_type": "code",
   "execution_count": 40,
   "metadata": {},
   "outputs": [
    {
     "name": "stdout",
     "output_type": "stream",
     "text": [
      "Enter sides for finding area of triangle: \n",
      "enter side_1:3\n",
      "enter side_2:4\n",
      "enter side_3:5\n",
      "area of triangle : 2.449489742783178\n"
     ]
    }
   ],
   "source": [
    "class Get_sides:\n",
    "    a,b,c=0,0,0;\n",
    " \n",
    "    def __init__(self):\n",
    "        pass\n",
    "    def side(self,side_1,side_2,side_3):\n",
    "        self.a=side_1\n",
    "        \n",
    "        self.b=side_2\n",
    "        self.c=side_3\n",
    "class Area(Get_sides):\n",
    "    \n",
    "    def triangle_area(self):\n",
    "        self.s=(self.a+self.b+self.c)/2\n",
    "        \n",
    "        self.area= ((self.s-self.a)*(self.s-self.b)*(self.s-self.c))**0.5\n",
    "        print(\"area of triangle :\",self.area)\n",
    "    \n",
    "\n",
    "area=Area()#instance of class Area\n",
    "print(\"Enter sides for finding area of triangle: \")\n",
    "side_1=float(input(\"enter side_1:\"))\n",
    "side_2=float(input(\"enter side_2:\"))\n",
    "\n",
    "side_3=float(input(\"enter side_3:\"))\n",
    "area.side(side_1,side_2,side_3)\n",
    "\n",
    "   \n",
    "    \n",
    "#calling child class triangle_area function for calculating area\n",
    "area.triangle_area()"
   ]
  },
  {
   "cell_type": "markdown",
   "metadata": {},
   "source": [
    "1.2 Write a function filter_long_words() that takes a list of words and an integer n and return the list of words that are longer than n\n",
    "\n",
    "code:"
   ]
  },
  {
   "cell_type": "code",
   "execution_count": 1,
   "metadata": {},
   "outputs": [
    {
     "name": "stdout",
     "output_type": "stream",
     "text": [
      "enter words:manish sain\n",
      "['manish', 'sain']\n",
      "enter integer :2\n",
      "manish\n",
      "sain\n"
     ]
    }
   ],
   "source": [
    "\n",
    "def filter_long_words(list,n):\n",
    "    for i in list:\n",
    "        if len(i)>n:\n",
    "            print(i)\n",
    "\n",
    "list1 = list(input(\"enter words:\").split())\n",
    "print(list1)\n",
    "n=int(input(\"enter integer :\"))\n",
    "filter_long_words(list1,n)"
   ]
  },
  {
   "cell_type": "markdown",
   "metadata": {},
   "source": [
    "2.1 Write a python program using function concept that maps list of words into a list of integers representing the lengths of the corrosponding words \n",
    "\n",
    "Hint. If a list [ab,cde,erty] is passed function output shoud come as [2,3,4]\n",
    "here 2,3 and 4 are the length of the words in list\n"
   ]
  }
 ],
 "metadata": {
  "kernelspec": {
   "display_name": "Python 3",
   "language": "python",
   "name": "python3"
  },
  "language_info": {
   "codemirror_mode": {
    "name": "ipython",
    "version": 3
   },
   "file_extension": ".py",
   "mimetype": "text/x-python",
   "name": "python",
   "nbconvert_exporter": "python",
   "pygments_lexer": "ipython3",
   "version": "3.7.6"
  }
 },
 "nbformat": 4,
 "nbformat_minor": 4
}
