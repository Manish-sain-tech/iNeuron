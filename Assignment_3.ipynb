{
 "cells": [
  {
   "cell_type": "markdown",
   "metadata": {},
   "source": [
    "# Assignment_3"
   ]
  },
  {
   "cell_type": "markdown",
   "metadata": {},
   "source": [
    "1.1 Write a python program to implement your own myreduce function which work exactly like python built in function reduce().\n",
    "\n",
    "code:"
   ]
  },
  {
   "cell_type": "code",
   "execution_count": 5,
   "metadata": {},
   "outputs": [
    {
     "name": "stdout",
     "output_type": "stream",
     "text": [
      "reduce function output:\n",
      "addition of list elementscis : 21\n",
      "myreduce function output:\n",
      "addtion of list elements  21\n"
     ]
    }
   ],
   "source": [
    "\n",
    "import functools\n",
    "\n",
    "num=[1,2,3,4,5,6]\n",
    "print(\"reduce function output:\")\n",
    "print(\"addition of list elementscis :\",functools.reduce(lambda x,y:x+y ,num))\n",
    "\n",
    "\n",
    "def myreduce(num):\n",
    "    sum1=num[0]\n",
    "    for i in  range(1,len(num)):\n",
    "        sum1+= num[i]\n",
    "    return sum1\n",
    "print(\"myreduce function output:\")\n",
    "\n",
    "print(\"addtion of list elements \",myreduce(num))\n",
    "\n"
   ]
  },
  {
   "cell_type": "markdown",
   "metadata": {},
   "source": [
    "1.2 Write a python program to implement your own myfilter function which works exactly python built in function fiter().\n",
    "\n",
    "code:"
   ]
  },
  {
   "cell_type": "code",
   "execution_count": 10,
   "metadata": {},
   "outputs": [
    {
     "name": "stdout",
     "output_type": "stream",
     "text": [
      "enter a number between you want to find all positive even number:12\n",
      "filter function output\n",
      "[0, 2, 4, 6, 8, 10, 12]\n",
      "myfilter function output\n"
     ]
    },
    {
     "data": {
      "text/plain": [
       "[0, 2, 4, 6, 8, 10, 12]"
      ]
     },
     "execution_count": 10,
     "metadata": {},
     "output_type": "execute_result"
    }
   ],
   "source": [
    "\n",
    "l=[]\n",
    "def myfilter(num): #myfilter function\n",
    "    for i in range(0,num+1):\n",
    "        if(i%2==0):\n",
    "\n",
    "            l.append(i)\n",
    "    return l        \n",
    "\n",
    "num=int(input(\"enter a number between you want to find all positive even number:\"))\n",
    "\n",
    "print(\"filter function output\")\n",
    "print(list(filter(lambda x: x%2==0,range(num+1)))) #filter function working\n",
    "\n",
    "print(\"myfilter function output\")\n",
    "myfilter(num)\n"
   ]
  },
  {
   "cell_type": "markdown",
   "metadata": {},
   "source": [
    "2. Implement list comprehention to produce the following list.\n",
    "\n",
    "Write list comprehention to produce the following list \n",
    "\n"
   ]
  },
  {
   "cell_type": "markdown",
   "metadata": {},
   "source": [
    "list 1:\n",
    "\n",
    "['x','xx','xxx','xxxx','y','yy','yyy','yyyy','z','zz','zzz','zzzz']\n",
    "\n",
    "code:\n"
   ]
  },
  {
   "cell_type": "code",
   "execution_count": 14,
   "metadata": {},
   "outputs": [
    {
     "name": "stdout",
     "output_type": "stream",
     "text": [
      "['x', 'xx', 'xxx', 'xxxx', 'y', 'yy', 'yyy', 'yyyy', 'z', 'zz', 'zzz', 'zzzz']\n"
     ]
    }
   ],
   "source": [
    "l3=[]\n",
    "l2=['x','y','z']\n",
    "l3=[ i*j for i in l2 for j in range(1,5) ]\n",
    "print(l3)"
   ]
  },
  {
   "cell_type": "markdown",
   "metadata": {},
   "source": [
    "list 2:\n",
    "\n",
    "['x','y','z','xx','yy','zz','xxx','yyy','zzz','xxxx','yyyy','zzzz']\n",
    "\n",
    "code:"
   ]
  },
  {
   "cell_type": "code",
   "execution_count": 54,
   "metadata": {},
   "outputs": [
    {
     "name": "stdout",
     "output_type": "stream",
     "text": [
      "['x', 'y', 'z', 'xx', 'yy', 'zz', 'xxx', 'yyy', 'zzz', 'xxxx', 'yyyy', 'zzzz']\n"
     ]
    }
   ],
   "source": [
    "l3=[]\n",
    "l2=['x','y','z']\n",
    "l3=[ i*j  for j in range(1,5) for i in l2]\n",
    "print(l3)"
   ]
  },
  {
   "cell_type": "markdown",
   "metadata": {},
   "source": [
    "list 3:\n",
    "\n",
    " [ [2],[3],[4],[3],[4],[5],[6] ]\n",
    " \n",
    " code:"
   ]
  },
  {
   "cell_type": "code",
   "execution_count": 3,
   "metadata": {},
   "outputs": [
    {
     "data": {
      "text/plain": [
       "[[2], [3], [4], [3], [4], [5], [6]]"
      ]
     },
     "execution_count": 3,
     "metadata": {},
     "output_type": "execute_result"
    }
   ],
   "source": [
    "l=[]\n",
    "l=[[i+j] for i in range(2,4) for j in range(i+1)]\n",
    "        \n",
    "l        "
   ]
  },
  {
   "cell_type": "markdown",
   "metadata": {},
   "source": [
    "list 4:\n",
    "\n",
    "[ [2,3,4,5],[3,4,5,6],[4,5,6,7],[5,6,7,8] ]  \n",
    "\n",
    "code:"
   ]
  },
  {
   "cell_type": "code",
   "execution_count": 18,
   "metadata": {},
   "outputs": [
    {
     "data": {
      "text/plain": [
       "[[2, 3, 4, 5], [3, 4, 5, 6], [4, 5, 6, 7], [5, 6, 7, 8]]"
      ]
     },
     "execution_count": 18,
     "metadata": {},
     "output_type": "execute_result"
    }
   ],
   "source": [
    "l=[]\n",
    "l1=[]\n",
    "l1=[[i+j for i in range(2,6)] for j in range(0,4)]\n",
    "l1"
   ]
  },
  {
   "cell_type": "markdown",
   "metadata": {},
   "source": [
    "list 5:\n",
    "    \n",
    "[(1,1),(2,1),(3,1),(1,2),(2,2),(3,2),(1,3),(2,3),(3,3)] \n",
    "\n",
    "code:"
   ]
  },
  {
   "cell_type": "code",
   "execution_count": 31,
   "metadata": {},
   "outputs": [
    {
     "data": {
      "text/plain": [
       "[(1, 1), (2, 1), (3, 1), (1, 2), (2, 2), (3, 2), (1, 3), (2, 3), (3, 3)]"
      ]
     },
     "execution_count": 31,
     "metadata": {},
     "output_type": "execute_result"
    }
   ],
   "source": [
    "l=[]\n",
    "\n",
    "l=[ (j,i) for i in range(1,4) for j in range(1,4)]\n",
    "l"
   ]
  }
 ],
 "metadata": {
  "kernelspec": {
   "display_name": "Python 3",
   "language": "python",
   "name": "python3"
  },
  "language_info": {
   "codemirror_mode": {
    "name": "ipython",
    "version": 3
   },
   "file_extension": ".py",
   "mimetype": "text/x-python",
   "name": "python",
   "nbconvert_exporter": "python",
   "pygments_lexer": "ipython3",
   "version": "3.7.6"
  }
 },
 "nbformat": 4,
 "nbformat_minor": 4
}
